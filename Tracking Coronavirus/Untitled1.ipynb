{
 "cells": [
  {
   "cell_type": "code",
   "execution_count": 15,
   "metadata": {},
   "outputs": [],
   "source": [
    "import pandas as pd\n",
    "import numpy as np\n",
    "from scipy.integrate import ode\n",
    "import matplotlib.pyplot as plt"
   ]
  },
  {
   "cell_type": "code",
   "execution_count": 16,
   "metadata": {},
   "outputs": [],
   "source": [
    "Italy = Italy = pd.read_excel('countries.xlsx', sheet_name='Italy')\n",
    "Italy = Italy.transpose()\n",
    "Italy.columns = Italy.iloc[0]\n",
    "Italy = Italy.drop(Italy.index[0])\n",
    "Italy.reset_index(level=0, inplace=True)\n",
    "Italy = Italy.rename(columns={'index' : 'time'})\n",
    "#Italy  = Italy[['active']]"
   ]
  },
  {
   "cell_type": "code",
   "execution_count": 17,
   "metadata": {},
   "outputs": [
    {
     "data": {
      "text/plain": [
       "<matplotlib.legend.Legend at 0x23e50509c88>"
      ]
     },
     "execution_count": 17,
     "metadata": {},
     "output_type": "execute_result"
    },
    {
     "data": {
      "image/png": "[encoded data removed]",
      "text/plain": [
       "<Figure size 432x288 with 1 Axes>"
      ]
     },
     "metadata": {
      "needs_background": "light"
     },
     "output_type": "display_data"
    }
   ],
   "source": [
    "#plt.figure(figsize=(10,7))\n",
    "plt.plot(Italy['time'],Italy['Confirmed'],label='Confirmed')\n",
    "plt.plot(Italy['time'],Italy['recovered'],label='recovered')\n",
    "plt.plot(Italy['time'],Italy['deaths'],label='deaths')\n",
    "#plt.plot(Italy['time'],Italy['Susceptible'])\n",
    "plt.plot(Italy['time'],Italy['active'],label='active')\n",
    "plt.legend()"
   ]
  },
  {
   "cell_type": "code",
   "execution_count": 18,
   "metadata": {},
   "outputs": [],
   "source": [
    "def SEIRD(t,y,b,g,p,n,q,k,N,m):\n",
    "    S = y[1]\n",
    "    E = y[2]\n",
    "    I = y[3]\n",
    "    T = y[4]\n",
    "    R = y[5]\n",
    "\n",
    "    dSdt = ((-b*S*(I+E))/N) + (m*R)\n",
    "    dEdt = ((b*S*(I+E))/N) - (k*E)\n",
    "    dIdt = (k*E)-(g*p*I)\n",
    "    dTdt = (g*p*I)-(n*T)\n",
    "    dRdt = n*q*T - (m*R)\n",
    "    dDdt = (g*(1-p)*I)+(n*(1-q)*T)\n",
    "    dydt = np.array([dSdt, dEdt, dIdt, dTdt, dRdt, dDdt])\n",
    "    return dydt"
   ]
  },
  {
   "cell_type": "code",
   "execution_count": 19,
   "metadata": {},
   "outputs": [],
   "source": [
    "#t = [0:122]\n",
    "N = 60479424\n",
    "S = 60479417\n",
    "I = 4\n",
    "D = 0 \n",
    "E = 3 \n",
    "R = 0\n",
    "T = 0\n",
    "#yyo = zeros(7,2)\n",
    "y0 = np.array([S,E,I,T,R,D])\n",
    "b=0.4 \n",
    "g = 0.6 \n",
    "p = 1 \n",
    "n = 0.5 \n",
    "q = 1 \n",
    "k = 0.5\n",
    "m = 0.1"
   ]
  },
  {
   "cell_type": "code",
   "execution_count": 20,
   "metadata": {},
   "outputs": [
    {
     "ename": "NameError",
     "evalue": "name 'SEIDR' is not defined",
     "output_type": "error",
     "traceback": [
      "\u001b[1;31m---------------------------------------------------------------------------\u001b[0m",
      "\u001b[1;31mNameError\u001b[0m                                 Traceback (most recent call last)",
      "\u001b[1;32m<ipython-input-20-09d8e1f4c7b8>\u001b[0m in \u001b[0;36m<module>\u001b[1;34m\u001b[0m\n\u001b[1;32m----> 1\u001b[1;33m \u001b[0my\u001b[0m \u001b[1;33m=\u001b[0m \u001b[0mode\u001b[0m\u001b[1;33m(\u001b[0m\u001b[0mSEIDR\u001b[0m\u001b[1;33m(\u001b[0m\u001b[0mt\u001b[0m\u001b[1;33m,\u001b[0m\u001b[0my\u001b[0m\u001b[1;33m,\u001b[0m\u001b[0mb\u001b[0m\u001b[1;33m,\u001b[0m\u001b[0mg\u001b[0m\u001b[1;33m,\u001b[0m\u001b[0mp\u001b[0m\u001b[1;33m,\u001b[0m\u001b[0mn\u001b[0m\u001b[1;33m,\u001b[0m\u001b[0mq\u001b[0m\u001b[1;33m,\u001b[0m\u001b[0mk\u001b[0m\u001b[1;33m,\u001b[0m\u001b[0mN\u001b[0m\u001b[1;33m,\u001b[0m\u001b[0mm\u001b[0m\u001b[1;33m)\u001b[0m\u001b[1;33m,\u001b[0m\u001b[1;33m[\u001b[0m\u001b[0mi\u001b[0m\u001b[1;33m-\u001b[0m\u001b[1;36m1\u001b[0m\u001b[1;33m,\u001b[0m\u001b[0mi\u001b[0m\u001b[1;33m]\u001b[0m\u001b[1;33m,\u001b[0m\u001b[0my0\u001b[0m\u001b[1;33m)\u001b[0m\u001b[1;33m\u001b[0m\u001b[1;33m\u001b[0m\u001b[0m\n\u001b[0m",
      "\u001b[1;31mNameError\u001b[0m: name 'SEIDR' is not defined"
     ]
    }
   ],
   "source": [
    "y = ode(SEIDR(t,y,b,g,p,n,q,k,N,m),[i-1,i],y0)"
   ]
  },
  {
   "cell_type": "code",
   "execution_count": null,
   "metadata": {},
   "outputs": [],
   "source": [
    "for i=1:120\n",
    "    N = sum(y0);\n",
    "    y = OdeSolver(SEIDR(t,y,b,g,p,n,q,k,N,m),[i-1,i],y0)\n",
    "    y0=y[-1,:]';\n",
    "yyo(:,i) = [y0; N];"
   ]
  }
 ],
 "metadata": {
  "kernelspec": {
   "display_name": "Python 3",
   "language": "python",
   "name": "python3"
  },
  "language_info": {
   "codemirror_mode": {
    "name": "ipython",
    "version": 3
   },
   "file_extension": ".py",
   "mimetype": "text/x-python",
   "name": "python",
   "nbconvert_exporter": "python",
   "pygments_lexer": "ipython3",
   "version": "3.7.7"
  }
 },
 "nbformat": 4,
 "nbformat_minor": 4
}
